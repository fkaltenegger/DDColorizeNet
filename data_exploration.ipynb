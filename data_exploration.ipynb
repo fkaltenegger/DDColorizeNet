{
 "cells": [
  {
   "cell_type": "code",
   "execution_count": null,
   "metadata": {},
   "outputs": [],
   "source": [
    "import os\n",
    "import random\n",
    "from pathlib import Path\n",
    "\n",
    "import cv2\n",
    "import matplotlib.pyplot as plt\n",
    "import numpy as np\n",
    "from PIL import Image\n",
    "from skimage import io\n",
    "from skimage.segmentation import mark_boundaries, slic\n"
   ]
  },
  {
   "cell_type": "code",
   "execution_count": null,
   "metadata": {},
   "outputs": [],
   "source": [
    "img_dir = \"data/colorization/coco\"\n",
    "img_path = random.choice(os.listdir(img_dir))\n",
    "img_path = os.path.join(img_dir, img_path)\n",
    "# Load the image\n",
    "Image.open(img_path)"
   ]
  },
  {
   "cell_type": "code",
   "execution_count": null,
   "metadata": {},
   "outputs": [],
   "source": [
    "image = io.imread(img_path)\n",
    "n_segments = 10\n",
    "# Apply SLIC superpixel segmentation\n",
    "segments = slic(image, n_segments=n_segments, compactness=20, sigma=1)\n",
    "segment_ids = np.unique(segments)"
   ]
  },
  {
   "cell_type": "code",
   "execution_count": null,
   "metadata": {},
   "outputs": [],
   "source": [
    "# Display the segmented image\n",
    "fig, ax = plt.subplots(1, 1, figsize=(10, 10))\n",
    "ax.imshow(mark_boundaries(image, segments))\n",
    "ax.set_title('SLIC Superpixel Segmentation')\n",
    "plt.show()"
   ]
  },
  {
   "cell_type": "code",
   "execution_count": null,
   "metadata": {},
   "outputs": [],
   "source": [
    "def get_most_uniform_segments(hue, segments, segment_ids):\n",
    "    seg_color_var = []\n",
    "    for sid in segment_ids:\n",
    "        segment_hue = hue[segments == sid]\n",
    "        seg_color_var.append((sid, segment_hue.var()))\n",
    "\n",
    "    seg_color_var.sort(key=lambda x: x[1])\n",
    "    return seg_color_var[:6]\n",
    "\n",
    "def get_most_saturated_segments(saturation, segments, segment_ids):\n",
    "    seg_sats = []\n",
    "    for sid, _ in segment_ids:\n",
    "        segment_sat = saturation[segments == sid]\n",
    "        seg_sats.append((sid, segment_sat.mean()))\n",
    "\n",
    "    seg_sats.sort(key=lambda x: x[1], reverse=True)\n",
    "    return seg_sats[:3]"
   ]
  },
  {
   "cell_type": "code",
   "execution_count": null,
   "metadata": {},
   "outputs": [],
   "source": [
    "hsv_img = cv2.cvtColor(image, cv2.COLOR_RGB2HSV)\n",
    "h, s, v = cv2.split(hsv_img)\n",
    "\n",
    "most_uniform_segments = get_most_uniform_segments(h, segments, segment_ids)\n",
    "most_colorful_segments = get_most_saturated_segments(s, segments, most_uniform_segments)\n",
    "high_sat_sid, sat_value = random.choice(most_colorful_segments)\n",
    "high_sat_sid, sat_value"
   ]
  },
  {
   "cell_type": "code",
   "execution_count": null,
   "metadata": {},
   "outputs": [],
   "source": [
    "binary_mask = np.zeros_like(segments, dtype=np.uint8)\n",
    "binary_mask[np.isin(segments, high_sat_sid)] = 1\n",
    "Image.fromarray(binary_mask*255, mode=\"L\")"
   ]
  },
  {
   "cell_type": "code",
   "execution_count": null,
   "metadata": {},
   "outputs": [],
   "source": [
    "def get_hint_image(image, binary_mask):\n",
    "    def mean_color(ch):\n",
    "        ch = int((ch * binary_mask).sum() // binary_mask.sum())\n",
    "        ch = np.clip(ch, 0, 255)\n",
    "        return ch\n",
    "\n",
    "    r,g,b = np.array_split(image, 3, axis=2)\n",
    "    r = mean_color(r.squeeze())\n",
    "    g = mean_color(g.squeeze())\n",
    "    b = mean_color(b.squeeze())\n",
    "\n",
    "    gray = cv2.cvtColor(image, cv2.COLOR_RGB2GRAY)\n",
    "    hint = cv2.cvtColor(gray, cv2.COLOR_GRAY2RGB)\n",
    "\n",
    "    mask = binary_mask.astype(bool)\n",
    "\n",
    "    hint[mask, 0] = r\n",
    "    hint[mask, 1] = g\n",
    "    hint[mask, 2] = b\n",
    "    return hint\n",
    "\n",
    "hint = get_hint_image(image, binary_mask)\n",
    "Image.fromarray(hint)"
   ]
  }
 ],
 "metadata": {
  "kernelspec": {
   "display_name": "matfuse",
   "language": "python",
   "name": "python3"
  },
  "language_info": {
   "codemirror_mode": {
    "name": "ipython",
    "version": 3
   },
   "file_extension": ".py",
   "mimetype": "text/x-python",
   "name": "python",
   "nbconvert_exporter": "python",
   "pygments_lexer": "ipython3",
   "version": "3.8.5"
  }
 },
 "nbformat": 4,
 "nbformat_minor": 2
}
